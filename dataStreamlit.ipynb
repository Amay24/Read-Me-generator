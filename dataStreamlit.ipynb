{
  "nbformat": 4,
  "nbformat_minor": 0,
  "metadata": {
    "colab": {
      "provenance": [],
      "include_colab_link": true
    },
    "kernelspec": {
      "name": "python3",
      "display_name": "Python 3"
    },
    "language_info": {
      "name": "python"
    }
  },
  "cells": [
    {
      "cell_type": "markdown",
      "metadata": {
        "id": "view-in-github",
        "colab_type": "text"
      },
      "source": [
        "<a href=\"https://colab.research.google.com/github/Amay24/Read-Me-generator/blob/main/dataStreamlit.ipynb\" target=\"_parent\"><img src=\"https://colab.research.google.com/assets/colab-badge.svg\" alt=\"Open In Colab\"/></a>"
      ]
    },
    {
      "cell_type": "code",
      "execution_count": null,
      "metadata": {
        "colab": {
          "base_uri": "https://localhost:8080/"
        },
        "id": "IFfvTivjm9NB",
        "outputId": "603500f5-fd9e-4331-ca6e-b996d43126d8"
      },
      "outputs": [
        {
          "output_type": "stream",
          "name": "stdout",
          "text": [
            "Looking in indexes: https://pypi.org/simple, https://us-python.pkg.dev/colab-wheels/public/simple/\n",
            "Requirement already satisfied: pyngrok in /usr/local/lib/python3.8/dist-packages (5.2.1)\n",
            "Requirement already satisfied: PyYAML in /usr/local/lib/python3.8/dist-packages (from pyngrok) (6.0)\n",
            "Authtoken saved to configuration file: /root/.ngrok2/ngrok.yml\n"
          ]
        },
        {
          "output_type": "execute_result",
          "data": {
            "text/plain": [
              "<NgrokTunnel: \"http://c528-34-86-24-224.ngrok.io\" -> \"http://localhost:80\">"
            ]
          },
          "metadata": {},
          "execution_count": 3
        }
      ],
      "source": [
        "!pip install -q streamlit\n",
        "!pip install pyngrok\n",
        "!pip install jedi>=0.10\n",
        "!ngrok authtoken 2L3VScncfEtKjdaEU4CaO0Eu9Bb_74iqffMTxzvk8ChX1RV9J\n",
        "from pyngrok import ngrok \n",
        "public_url = ngrok.connect(port='8501')\n",
        "public_url"
      ]
    },
    {
      "cell_type": "code",
      "source": [
        "%%writefile streamlit_app.py \n",
        "import streamlit as st\n",
        "import pandas as pd\n",
        "import plotly.express as px\n",
        "'# Avocado Prices dashboard'\n",
        "# Alternative:  st.write('# Avocado Prices dashboard')"
      ],
      "metadata": {
        "colab": {
          "base_uri": "https://localhost:8080/"
        },
        "id": "iTy05feprMIN",
        "outputId": "e6c479ea-61a2-46de-efa3-c0d675d2d1de"
      },
      "execution_count": null,
      "outputs": [
        {
          "output_type": "stream",
          "name": "stdout",
          "text": [
            "Writing streamlit_app.py\n"
          ]
        }
      ]
    },
    {
      "cell_type": "code",
      "source": [
        "!streamlit run /content/streamlit_app.py & npx localtunnel --port 8501 "
      ],
      "metadata": {
        "colab": {
          "base_uri": "https://localhost:8080/"
        },
        "id": "U2_yIB1jrUMb",
        "outputId": "ec24872f-a970-4ddc-e8c7-c0a3ebafb15d"
      },
      "execution_count": null,
      "outputs": [
        {
          "output_type": "stream",
          "name": "stdout",
          "text": [
            "[##................] | fetchMetadata: sill resolveWithNewModule is-fullwidth-co\u001b[0m\u001b[K\n",
            "Collecting usage statistics. To deactivate, set browser.gatherUsageStats to False.\n",
            "\u001b[0m\n",
            "\u001b[0m\n",
            "\u001b[34m\u001b[1m  You can now view your Streamlit app in your browser.\u001b[0m\n",
            "\u001b[0m\n",
            "\u001b[34m  Network URL: \u001b[0m\u001b[1mhttp://172.28.0.12:8501\u001b[0m\n",
            "\u001b[34m  External URL: \u001b[0m\u001b[1mhttp://34.86.24.224:8501\u001b[0m\n",
            "\u001b[0m\n",
            "\u001b[K\u001b[?25hnpx: installed 22 in 3.764s\n",
            "your url is: https://seven-taxes-buy-34-86-24-224.loca.lt\n",
            "\u001b[34m  Stopping...\u001b[0m\n",
            "^C\n"
          ]
        }
      ]
    },
    {
      "cell_type": "code",
      "source": [
        "%%writefile streamlit_app.py \n",
        "import streamlit as st\n",
        "import pandas as pd\n",
        "import plotly.express as px\n",
        "st.write('# Avocado Prices dashboard')  #st.title('Avocado Prices dashboard')\n",
        "# https://markdown-editor.github.io/   This will help build markdown\n",
        "st.markdown('''\n",
        "This is a dashboard showing the *average prices* of different types of :avocado:  \n",
        "Data source: [Kaggle](https://www.kaggle.com/datasets/timmate/avocado-prices-2020)\n",
        "''')\n",
        "st.header('Summary statistics')\n",
        "st.header('Line chart by geographies')"
      ],
      "metadata": {
        "colab": {
          "base_uri": "https://localhost:8080/"
        },
        "id": "xNVhkFbOrj5P",
        "outputId": "632a745c-d206-4b83-d5e1-ccb119dbc498"
      },
      "execution_count": null,
      "outputs": [
        {
          "output_type": "stream",
          "name": "stdout",
          "text": [
            "Overwriting streamlit_app.py\n"
          ]
        }
      ]
    },
    {
      "cell_type": "code",
      "source": [
        "!streamlit run /content/streamlit_app.py & npx localtunnel --port 8501 "
      ],
      "metadata": {
        "colab": {
          "base_uri": "https://localhost:8080/"
        },
        "id": "vFLpPDYBry3d",
        "outputId": "5642f28d-d4f6-4a86-f705-94f292515ec8"
      },
      "execution_count": null,
      "outputs": [
        {
          "output_type": "stream",
          "name": "stdout",
          "text": [
            "[#######...........] / extract:localtunnel: verb lock using /root/.npm/_locks/s\u001b[0m\u001b[K\n",
            "Collecting usage statistics. To deactivate, set browser.gatherUsageStats to False.\n",
            "\u001b[0m\n",
            "\u001b[0m\n",
            "\u001b[34m\u001b[1m  You can now view your Streamlit app in your browser.\u001b[0m\n",
            "\u001b[0m\n",
            "\u001b[34m  Network URL: \u001b[0m\u001b[1mhttp://172.28.0.12:8501\u001b[0m\n",
            "\u001b[34m  External URL: \u001b[0m\u001b[1mhttp://34.86.24.224:8501\u001b[0m\n",
            "\u001b[0m\n",
            "\u001b[K\u001b[?25hnpx: installed 22 in 2.831s\n",
            "your url is: https://violet-eyes-send-34-86-24-224.loca.lt\n",
            "\u001b[34m  Stopping...\u001b[0m\n",
            "^C\n"
          ]
        }
      ]
    },
    {
      "cell_type": "code",
      "source": [
        "%%writefile streamlit_app.py \n",
        "import streamlit as st\n",
        "import pandas as pd\n",
        "import plotly.express as px\n",
        "st.write('# MY Avocado Prices dashboard')  #st.title('Avocado Prices dashboard')\n",
        "# https://markdown-editor.github.io/   This will help build markdown\n",
        "st.markdown('''\n",
        "This is a dashboard showing the *average prices* of different types of :avocado:  \n",
        "Data source: [Kaggle](https://www.kaggle.com/datasets/timmate/avocado-prices-2020)\n",
        "''')\n",
        "st.header('Summary statistics')\n",
        "st.header('Line chart by geographies')\n",
        "st.header('Summary statistics')\n",
        "avocado = pd.read_csv('https://raw.githubusercontent.com/fenago/datasets/main/avocado-updated-2020.csv')\n",
        "avocado_stats = avocado.groupby('type')['average_price'].mean()\n",
        "st.dataframe(avocado_stats)\n",
        "st.header('Line chart by geographies')\n",
        "line_fig = px.line(avocado[avocado['geography'] == 'Los Angeles'],\n",
        "                   x='date', y='average_price',\n",
        "                   color='type',\n",
        "                   title='Avocado Prices in Los Angeles')\n",
        "st.plotly_chart(line_fig)"
      ],
      "metadata": {
        "colab": {
          "base_uri": "https://localhost:8080/"
        },
        "id": "QxgP1ybtsbz3",
        "outputId": "1a355a8d-5e53-42f3-bdcf-1ce463b3718f"
      },
      "execution_count": null,
      "outputs": [
        {
          "output_type": "stream",
          "name": "stdout",
          "text": [
            "Overwriting streamlit_app.py\n"
          ]
        }
      ]
    },
    {
      "cell_type": "code",
      "source": [
        "!streamlit run /content/streamlit_app.py & npx localtunnel --port 8501 "
      ],
      "metadata": {
        "colab": {
          "base_uri": "https://localhost:8080/"
        },
        "id": "BjbGzQAwryxX",
        "outputId": "fd4fe892-7327-431a-fb2c-9f4350705217"
      },
      "execution_count": null,
      "outputs": [
        {
          "output_type": "stream",
          "name": "stdout",
          "text": [
            "[#######...........] / extract:localtunnel: verb lock using /root/.npm/_locks/s\u001b[0m\u001b[K\n",
            "Collecting usage statistics. To deactivate, set browser.gatherUsageStats to False.\n",
            "\u001b[0m\n",
            "\u001b[0m\n",
            "\u001b[34m\u001b[1m  You can now view your Streamlit app in your browser.\u001b[0m\n",
            "\u001b[0m\n",
            "\u001b[34m  Network URL: \u001b[0m\u001b[1mhttp://172.28.0.12:8501\u001b[0m\n",
            "\u001b[34m  External URL: \u001b[0m\u001b[1mhttp://34.86.24.224:8501\u001b[0m\n",
            "\u001b[0m\n",
            "\u001b[K\u001b[?25hnpx: installed 22 in 2.838s\n",
            "your url is: https://dark-waves-nail-34-86-24-224.loca.lt\n",
            "\u001b[34m  Stopping...\u001b[0m\n",
            "^C\n"
          ]
        }
      ]
    },
    {
      "cell_type": "code",
      "source": [
        "%%writefile streamlit_app.py \n",
        "import streamlit as st\n",
        "import pandas as pd\n",
        "import plotly.express as px\n",
        "st.write('# Avocado Prices dashboard')  #st.title('Avocado Prices dashboard')\n",
        "# https://markdown-editor.github.io/   This will help build markdown\n",
        "st.markdown('''\n",
        "This is a dashboard showing the *average prices* of different types of :avocado:  \n",
        "Data source: [Kaggle](https://www.kaggle.com/datasets/timmate/avocado-prices-2020)\n",
        "''')\n",
        "st.header('Summary statistics')\n",
        "st.header('Line chart by geographies')\n",
        "st.header('Summary statistics')\n",
        "avocado = pd.read_csv('https://raw.githubusercontent.com/fenago/datasets/main/avocado-updated-2020.csv')\n",
        "avocado_stats = avocado.groupby('type')['average_price'].mean()\n",
        "st.dataframe(avocado_stats)\n",
        "st.header('Line chart by geographies')\n",
        "line_fig = px.line(avocado[avocado['geography'] == 'Los Angeles'],\n",
        "                   x='date', y='average_price',\n",
        "                   color='type',\n",
        "                   title='Avocado Prices in Los Angeles')\n",
        "st.plotly_chart(line_fig)\n",
        "selected_geography = st.selectbox(label='Geography', options=avocado['geography'].unique())\n",
        "submitted = st.button('Submit')\n",
        "if submitted:\n",
        "    filtered_avocado = avocado[avocado['geography'] == selected_geography]\n",
        "    line_fig = px.line(filtered_avocado,\n",
        "                       x='date', y='average_price',\n",
        "                       color='type',\n",
        "                       title=f'Avocado Prices in {selected_geography}')\n",
        "    st.plotly_chart(line_fig)"
      ],
      "metadata": {
        "colab": {
          "base_uri": "https://localhost:8080/"
        },
        "id": "DAWjUU6utl2W",
        "outputId": "464bf790-8d1e-4837-ef80-26ba4b082a64"
      },
      "execution_count": null,
      "outputs": [
        {
          "output_type": "stream",
          "name": "stdout",
          "text": [
            "Overwriting streamlit_app.py\n"
          ]
        }
      ]
    },
    {
      "cell_type": "code",
      "source": [
        "!streamlit run /content/streamlit_app.py & npx localtunnel --port 8501 "
      ],
      "metadata": {
        "colab": {
          "base_uri": "https://localhost:8080/"
        },
        "id": "0IJ_PtkGrys_",
        "outputId": "9eb6eea2-3bd8-4d6e-c44c-58c94f34b46f"
      },
      "execution_count": null,
      "outputs": [
        {
          "output_type": "stream",
          "name": "stdout",
          "text": [
            "[############......] - refresh-package-json:localtunnel: timing action:finalize\u001b[0m\u001b[K\n",
            "Collecting usage statistics. To deactivate, set browser.gatherUsageStats to False.\n",
            "\u001b[0m\n",
            "\u001b[K\u001b[?25hnpx: installed 22 in 2.851s\n",
            "\u001b[0m\n",
            "\u001b[34m\u001b[1m  You can now view your Streamlit app in your browser.\u001b[0m\n",
            "\u001b[0m\n",
            "\u001b[34m  Network URL: \u001b[0m\u001b[1mhttp://172.28.0.12:8501\u001b[0m\n",
            "\u001b[34m  External URL: \u001b[0m\u001b[1mhttp://34.86.24.224:8501\u001b[0m\n",
            "\u001b[0m\n",
            "your url is: https://social-months-cover-34-86-24-224.loca.lt\n",
            "\u001b[34m  Stopping...\u001b[0m\n",
            "^C\n"
          ]
        }
      ]
    },
    {
      "cell_type": "code",
      "source": [
        "%%writefile streamlit_app.py \n",
        "import streamlit as st\n",
        "import pandas as pd\n",
        "import plotly.express as px\n",
        "st.write('# Avocado Prices dashboard')  #st.title('Avocado Prices dashboard')\n",
        "# https://markdown-editor.github.io/   This will help build markdown\n",
        "st.markdown('''\n",
        "This is a dashboard showing the *average prices* of different types of :avocado:  \n",
        "Data source: [Kaggle](https://www.kaggle.com/datasets/timmate/avocado-prices-2020)\n",
        "''')\n",
        "st.header('Summary statistics')\n",
        "st.header('Line chart by geographies')\n",
        "st.header('Summary statistics')\n",
        "avocado = pd.read_csv('https://raw.githubusercontent.com/fenago/datasets/main/avocado-updated-2020.csv')\n",
        "avocado_stats = avocado.groupby('type')['average_price'].mean()\n",
        "st.dataframe(avocado_stats)\n",
        "st.header('Line chart by geographies')\n",
        "line_fig = px.line(avocado[avocado['geography'] == 'Los Angeles'],\n",
        "                   x='date', y='average_price',\n",
        "                   color='type',\n",
        "                   title='Avocado Prices in Los Angeles')\n",
        "st.plotly_chart(line_fig)\n",
        "selected_geography = st.selectbox(label='Geography', options=avocado['geography'].unique())\n",
        "submitted = st.button('Submit')\n",
        "if submitted:\n",
        "    filtered_avocado = avocado[avocado['geography'] == selected_geography]\n",
        "    line_fig = px.line(filtered_avocado,\n",
        "                       x='date', y='average_price',\n",
        "                       color='type',\n",
        "                       title=f'Avocado Prices in {selected_geography}')\n",
        "    st.plotly_chart(line_fig)\n",
        "\n",
        "with st.form('line_chart'):\n",
        "    selected_geography = st.selectbox(label='Geography', options=avocado['geography'].unique())\n",
        "    submitted = st.form_submit_button('Submit')\n",
        "    if submitted:\n",
        "        filtered_avocado = avocado[avocado['geography'] == selected_geography]\n",
        "        line_fig = px.line(filtered_avocado,\n",
        "                           x='date', y='average_price',\n",
        "                           color='type',\n",
        "                           title=f'Avocado Prices in {selected_geography}')\n",
        "        st.plotly_chart(line_fig)\n",
        "\n",
        "with st.sidebar:\n",
        "    st.subheader('About')\n",
        "    st.markdown('This dashboard is made by Just into Data, using **Streamlit**')"
      ],
      "metadata": {
        "colab": {
          "base_uri": "https://localhost:8080/"
        },
        "id": "wINWrRFovu4G",
        "outputId": "b2fff8ea-fb05-45c3-d0ad-b48af9c1b004"
      },
      "execution_count": null,
      "outputs": [
        {
          "output_type": "stream",
          "name": "stdout",
          "text": [
            "Overwriting streamlit_app.py\n"
          ]
        }
      ]
    },
    {
      "cell_type": "code",
      "source": [
        "!streamlit run /content/streamlit_app.py & npx localtunnel --port 8501 "
      ],
      "metadata": {
        "colab": {
          "base_uri": "https://localhost:8080/"
        },
        "id": "zxG3QKH0ryqP",
        "outputId": "bfaa4622-0431-4cc7-b975-05c4df5b1bcc"
      },
      "execution_count": null,
      "outputs": [
        {
          "output_type": "stream",
          "name": "stdout",
          "text": [
            "\u001b[K\u001b[?25hnpx: installed 22 in 2.675s\n",
            "\n",
            "Collecting usage statistics. To deactivate, set browser.gatherUsageStats to False.\n",
            "\u001b[0m\n",
            "your url is: https://sad-needles-bake-34-86-24-224.loca.lt\n",
            "\u001b[0m\n",
            "\u001b[34m\u001b[1m  You can now view your Streamlit app in your browser.\u001b[0m\n",
            "\u001b[0m\n",
            "\u001b[34m  Network URL: \u001b[0m\u001b[1mhttp://172.28.0.12:8501\u001b[0m\n",
            "\u001b[34m  External URL: \u001b[0m\u001b[1mhttp://34.86.24.224:8501\u001b[0m\n",
            "\u001b[0m\n",
            "\u001b[34m  Stopping...\u001b[0m\n",
            "^C\n"
          ]
        }
      ]
    },
    {
      "cell_type": "code",
      "source": [
        "%%writefile streamlit_app.py \n",
        "import streamlit as st\n",
        "import pandas as pd\n",
        "import plotly.express as px\n",
        "st.write('# Avocado Prices dashboard')  #st.title('Avocado Prices dashboard')\n",
        "# https://markdown-editor.github.io/   This will help build markdown\n",
        "st.markdown('''\n",
        "This is a dashboard showing the *average prices* of different types of :avocado:  \n",
        "Data source: [Kaggle](https://www.kaggle.com/datasets/timmate/avocado-prices-2020)\n",
        "''')\n",
        "st.header('Summary statistics')\n",
        "st.header('Line chart by geographies')\n",
        "st.header('Summary statistics')\n",
        "avocado = pd.read_csv('https://raw.githubusercontent.com/fenago/datasets/main/avocado-updated-2020.csv')\n",
        "avocado_stats = avocado.groupby('type')['average_price'].mean()\n",
        "st.dataframe(avocado_stats)\n",
        "st.header('Line chart by geographies')\n",
        "line_fig = px.line(avocado[avocado['geography'] == 'Los Angeles'],\n",
        "                   x='date', y='average_price',\n",
        "                   color='type',\n",
        "                   title='Avocado Prices in Los Angeles')\n",
        "st.plotly_chart(line_fig)\n",
        "selected_geography = st.selectbox(label='Geography', options=avocado['geography'].unique())\n",
        "submitted = st.button('Submit')\n",
        "if submitted:\n",
        "    filtered_avocado = avocado[avocado['geography'] == selected_geography]\n",
        "    line_fig = px.line(filtered_avocado,\n",
        "                       x='date', y='average_price',\n",
        "                       color='type',\n",
        "                       title=f'Avocado Prices in {selected_geography}')\n",
        "    st.plotly_chart(line_fig)\n",
        "\n",
        "with st.form('line_chart'):\n",
        "    selected_geography = st.selectbox(label='Geography', options=avocado['geography'].unique())\n",
        "    submitted = st.form_submit_button('Submit')\n",
        "    if submitted:\n",
        "        filtered_avocado = avocado[avocado['geography'] == selected_geography]\n",
        "        line_fig = px.line(filtered_avocado,\n",
        "                           x='date', y='average_price',\n",
        "                           color='type',\n",
        "                           title=f'Avocado Prices in {selected_geography}')\n",
        "        st.plotly_chart(line_fig)\n",
        "\n",
        "with st.sidebar:\n",
        "    st.subheader('About')\n",
        "    st.markdown('This dashboard is made by Just into Data, using **Streamlit**')\n",
        "    \n",
        "st.sidebar.image('https://streamlit.io/images/brand/streamlit-mark-color.png', width=50)"
      ],
      "metadata": {
        "id": "blj2_b3-wdz2"
      },
      "execution_count": null,
      "outputs": []
    },
    {
      "cell_type": "code",
      "source": [
        "!streamlit run /content/streamlit_app.py & npx localtunnel --port 8501 "
      ],
      "metadata": {
        "id": "iBmcTVBarynr"
      },
      "execution_count": null,
      "outputs": []
    },
    {
      "cell_type": "code",
      "source": [],
      "metadata": {
        "id": "3y2RgJ0hryky"
      },
      "execution_count": null,
      "outputs": []
    },
    {
      "cell_type": "code",
      "source": [],
      "metadata": {
        "id": "VecvA-aBryh6"
      },
      "execution_count": null,
      "outputs": []
    },
    {
      "cell_type": "code",
      "source": [],
      "metadata": {
        "id": "_lSeRF1ZryC2"
      },
      "execution_count": null,
      "outputs": []
    }
  ]
}